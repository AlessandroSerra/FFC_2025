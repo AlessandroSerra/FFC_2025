{
 "cells": [
  {
   "cell_type": "markdown",
   "metadata": {},
   "source": [
    "# Intro al Python"
   ]
  },
  {
   "cell_type": "markdown",
   "metadata": {},
   "source": [
    "## Sostanziali Differenze con il C"
   ]
  },
  {
   "cell_type": "markdown",
   "metadata": {},
   "source": [
    "Le differenze principali tra C e Pythyon, dal punto di vista della sintassi, sono le seguenti:\n",
    "\n",
    "1. Non è necessario finire ogni riga di codice con un \";\", le righe finiscono senza alcun segno di punteggiatura;\n",
    "\n",
    "2. Python è **fortemente** sensibile all'identazione, identando una certa parte di codice si cambia  \n",
    "sostanzialmente il suo funzionamento;\n",
    "\n",
    "3. Non esiste un \"main\" vero e proprio, i codici iniziano direttamente dalla prima riga del \"foglio\" e non è  \n",
    "necessario racchiudere la parte principale dello script dentro una funzione \"main\"."
   ]
  },
  {
   "cell_type": "markdown",
   "metadata": {},
   "source": [
    "## Librerie"
   ]
  },
  {
   "cell_type": "markdown",
   "metadata": {},
   "source": [
    "A differenza del C, in Python non è necessario importare librerie di base che contengano al loro interno le funzioni basilari.  \n",
    "Non esiste quindi un equivalente della ben nota \"stdio.h\".\n",
    "\n",
    "Possiamo quindi iniziare senza bisogno di importare nessuna libreria (per ora)."
   ]
  },
  {
   "cell_type": "markdown",
   "metadata": {},
   "source": [
    "## Output"
   ]
  },
  {
   "cell_type": "markdown",
   "metadata": {},
   "source": [
    "Come ogni programmatore che si rispetti, il primo argomento da affrontare consiste nello stampare una certa  \n",
    "stringa di testo, nel caso del Python la funzione è \"print()\":"
   ]
  },
  {
   "cell_type": "code",
   "execution_count": 1,
   "metadata": {},
   "outputs": [
    {
     "name": "stdout",
     "output_type": "stream",
     "text": [
      "Hello World!\n"
     ]
    }
   ],
   "source": [
    "print('Hello World!')"
   ]
  },
  {
   "cell_type": "markdown",
   "metadata": {},
   "source": [
    "## Varabili"
   ]
  },
  {
   "cell_type": "markdown",
   "metadata": {},
   "source": [
    "Per prima cosa ci occuperemo delle variabili, in Python le variabili non necessitano di essere dichiarate insieme al loro tipo.  \n",
    "Il compilatore deciderà da solo se quella che stiamo dichiarando sia di tipo int, float, double, string, etc.  \n",
    "\n",
    "Esistono tre principali tipi di variabili:\n",
    "\n",
    "1. Numeri;\n",
    "\n",
    "2. Stringhe;\n",
    "\n",
    "3. Booleani (vero o falso).\n",
    "\n",
    "Dichiarare numeri o booleani non necessita di nessuna accortezza, Le stringhe, tuttavia, devono essere dichiarate usando  \n",
    "le virgolette (o gli apostrofi).\n"
   ]
  },
  {
   "cell_type": "code",
   "execution_count": 3,
   "metadata": {},
   "outputs": [
    {
     "name": "stdout",
     "output_type": "stream",
     "text": [
      "Esempio di variabile:  1\n",
      "Esempio di stringa:  ciao\n",
      "Esempio di booleano:  True\n"
     ]
    }
   ],
   "source": [
    "# dichiariamo una variabile\n",
    "\n",
    "numero = 1\n",
    "print('Esempio di variabile: ', numero)\n",
    "\n",
    "# dichiariamo una stringa\n",
    "\n",
    "stringa = 'ciao'\n",
    "print('Esempio di stringa: ', stringa)\n",
    "\n",
    "# dichiariamo un booleano\n",
    "\n",
    "booleano = True\n",
    "print('Esempio di booleano: ', booleano)"
   ]
  },
  {
   "cell_type": "markdown",
   "metadata": {},
   "source": [
    "## Input dall'utente"
   ]
  },
  {
   "cell_type": "markdown",
   "metadata": {},
   "source": [
    "È possibile inserire valori da terminale usando la funzione \"input()\", questa funzione, tuttavia, restituisce  \n",
    "di default una stringa, nel caso si sia interessati ad inserire un numero è necessario operare un  \n",
    "\"casting\", ovvero assegnare manualmente il tipo di dato."
   ]
  },
  {
   "cell_type": "code",
   "execution_count": 8,
   "metadata": {},
   "outputs": [
    {
     "name": "stdout",
     "output_type": "stream",
     "text": [
      "La parola inserita è:  ciao\n",
      "Il numero inserito è:  2\n"
     ]
    }
   ],
   "source": [
    "# Inseriamo da terminale una stringa\n",
    "\n",
    "parola = input()\n",
    "print('La parola inserita è: ', parola)\n",
    "\n",
    "# Inseriamo da terminale un numero\n",
    "\n",
    "valore = int(input())                       # esempio di casting stringa -> numero\n",
    "print('Il numero inserito è: ', valore)\n"
   ]
  },
  {
   "cell_type": "markdown",
   "metadata": {},
   "source": [
    "## Operatori"
   ]
  },
  {
   "cell_type": "markdown",
   "metadata": {},
   "source": [
    "### Operatori Aritmetici"
   ]
  },
  {
   "cell_type": "markdown",
   "metadata": {},
   "source": [
    "Gli operatori aritmetici sono quelli a cui siamo abituati:\n",
    "\n",
    "- Somma: \"+\"\n",
    "\n",
    "- Differenza: \"-\"\n",
    "\n",
    "- Prodotto: \"*\"\n",
    "\n",
    "- Rapporto: \"/\"\n",
    "\n",
    "- Modulo: \"%\"\n",
    "\n",
    "- Potenza: \"**\""
   ]
  },
  {
   "cell_type": "code",
   "execution_count": 17,
   "metadata": {},
   "outputs": [
    {
     "name": "stdout",
     "output_type": "stream",
     "text": [
      "Somma di 2 e 3 = 5\n",
      "Differenza di 2 e 3 = -1\n",
      "Prodotto di 2 e 3 = 6\n",
      "Rapporto di 2 e 3 = 0.67\n",
      "Potenza di 2 e 3 = 8\n",
      "Modulo di 2 e 3 = 2\n"
     ]
    }
   ],
   "source": [
    "a, b = 2, 3\n",
    "\n",
    "somma = a+b\n",
    "differenza = a-b\n",
    "prodotto = a*b\n",
    "rapporto = a/b\n",
    "potenza = a**b\n",
    "modulo = a%b\n",
    "\n",
    "print(\"Somma di\", a, \"e\", b, \"=\", somma)\n",
    "print(\"Differenza di %d e %d = %d\" % (a, b, differenza))\n",
    "print(\"Prodotto di %d e %d = %d\" % (a, b, prodotto))\n",
    "print(\"Rapporto di %d e %d = %.2f\" % (a, b, rapporto))\n",
    "print(\"Potenza di %d e %d = %d\" % (a, b, potenza))\n",
    "print(\"Modulo di %d e %d = %d\" % (a, b, modulo))"
   ]
  },
  {
   "cell_type": "markdown",
   "metadata": {},
   "source": [
    "### Operatori Logici e di Confronto"
   ]
  },
  {
   "cell_type": "markdown",
   "metadata": {},
   "source": [
    "Vediamo gli operatori logici:\n",
    "\n",
    "- \"and\": Ritorna True se entrambi gli operandi sono veri, altrimenti False;\n",
    "\n",
    "- \"or\": Ritorna True se almeno uno degli operandi è vero, altrimenti False;\n",
    "\n",
    "- \"not\": Ritorna False se l'operando è vero, True se l'operando è falso.\n",
    "\n",
    "E gli operatori di confronto:\n",
    "\n",
    "- \"==:\" verifica l'uguaglianza tra due operandi;\n",
    "\n",
    "- \"!=\": verifica la NON uguaglianza tra due operandi;\n",
    "\n",
    "- \"<\": verifica se un operando è minore dell'altro;\n",
    "\n",
    "- \"<=\": verifica se un operando è minore o uguale dell'altro;\n",
    "\n",
    "- \">\": verifica se un operando è maggiore dell'altro;\n",
    "\n",
    "- \">=\": verifica se un operando è maggiore o uguale dell'altro."
   ]
  },
  {
   "cell_type": "code",
   "execution_count": 24,
   "metadata": {},
   "outputs": [
    {
     "name": "stdout",
     "output_type": "stream",
     "text": [
      "False\n",
      "False\n",
      "True\n",
      "True\n",
      "False\n",
      "True\n"
     ]
    }
   ],
   "source": [
    "a, b = 2, 3\n",
    "\n",
    "# vediamo il risultato di alcune operazioni di confronto\n",
    "\n",
    "print(a>b)\n",
    "print(a==b)\n",
    "print(a!=b)\n",
    "\n",
    "# vediamo invece gli operatori logici\n",
    "\n",
    "print(not a>b)\n",
    "print(a>b and a!=b)\n",
    "print(a>b or a!=b)"
   ]
  },
  {
   "cell_type": "markdown",
   "metadata": {},
   "source": [
    "## Liste"
   ]
  },
  {
   "cell_type": "markdown",
   "metadata": {},
   "source": [
    "Le liste rappresentano un tipo di oggetti in grado di contenere al loro interno altri oggetti, come variabili.  \n",
    "Possiamo pensare ad esse come un barattolo, possiamo metterci un numero indefinito di oggetti all'interno, i quali,  \n",
    "salvo terremoti improvvisi, manterranno l'ordine con cui sono stati inseriti.\n",
    "\n",
    "Di seguito vedremo alcune operazioni sulle liste:\n",
    "\n",
    "- Possiamo aggiungere un elemento alla fine di una lista con l'attributo \".append()\", oppure al suo interno  \n",
    "con l'attributo \".insert()\";\n",
    "\n",
    "- Possiamo eliminare l'ultimo elemento con l'attributo \".pop()\", oppure uno specifico con \".remove()\";\n",
    "\n",
    "- Possiamo ottenere la lunghezza della lista con la funzione \"len()\" ed accedere ai suoi elementi  \n",
    "nel modo \"lista\\[posizione]\"\n",
    "\n",
    "- E molte altre operazioni utili."
   ]
  },
  {
   "cell_type": "code",
   "execution_count": 42,
   "metadata": {},
   "outputs": [
    {
     "name": "stdout",
     "output_type": "stream",
     "text": [
      "[3]\n"
     ]
    }
   ],
   "source": [
    "# creiamo una lista vuota\n",
    "\n",
    "lista = []\n",
    "\n",
    "# aggiungiamo un elemento\n",
    "\n",
    "lista.append(3)\n",
    "print(lista)"
   ]
  },
  {
   "cell_type": "code",
   "execution_count": 43,
   "metadata": {},
   "outputs": [
    {
     "name": "stdout",
     "output_type": "stream",
     "text": [
      "[3, 'ciao', True, -5]\n"
     ]
    }
   ],
   "source": [
    "# possiamo aggiungere elementi di diverso tipo\n",
    "\n",
    "lista.append('ciao')\n",
    "\n",
    "# oppure anche sequenze di elementi\n",
    "\n",
    "lista.extend((True, -5))\n",
    "\n",
    "print(lista)"
   ]
  },
  {
   "cell_type": "code",
   "execution_count": 44,
   "metadata": {},
   "outputs": [
    {
     "name": "stdout",
     "output_type": "stream",
     "text": [
      "[3, 'ciao', True]\n"
     ]
    }
   ],
   "source": [
    "# facciamo una copia della lista e rimuoviamo qualche elemento\n",
    "\n",
    "lista_copy = lista.copy()\n",
    "\n",
    "lista_copy.pop()\n",
    "\n",
    "print(lista_copy)"
   ]
  },
  {
   "cell_type": "code",
   "execution_count": 45,
   "metadata": {},
   "outputs": [
    {
     "name": "stdout",
     "output_type": "stream",
     "text": [
      "[3, True]\n",
      "Lunghezza lista originale =  4\n",
      "Lunghezza lista modificata =  2\n"
     ]
    }
   ],
   "source": [
    "# oppure il secondo elemento\n",
    "\n",
    "lista_copy.remove('ciao')\n",
    "print(lista_copy)\n",
    "\n",
    "# stampiamo anche la lunghezza della lista e della sua copia\n",
    "print('Lunghezza lista originale = ', len(lista))\n",
    "print('Lunghezza lista modificata = ', len(lista_copy))"
   ]
  },
  {
   "cell_type": "code",
   "execution_count": 49,
   "metadata": {},
   "outputs": [
    {
     "name": "stdout",
     "output_type": "stream",
     "text": [
      "Liste unite:  [2, 1, 3, 6, 4, 5]\n",
      "Lista ordinata:  [1, 2, 3, 4, 5, 6]\n"
     ]
    }
   ],
   "source": [
    "# possiamo anche unire due liste diverse\n",
    "\n",
    "lista1 = [2, 1, 3]\n",
    "lista2 = [6, 4, 5]\n",
    "\n",
    "lista_tot = lista1 + lista2\n",
    "print(\"Liste unite: \", lista_tot)\n",
    "\n",
    "# e disporre la lista ottenuta in ordine\n",
    "\n",
    "lista_tot.sort()\n",
    "print(\"Lista ordinata: \", lista_tot)"
   ]
  },
  {
   "cell_type": "markdown",
   "metadata": {},
   "source": [
    "## If, Else If & Else"
   ]
  },
  {
   "cell_type": "markdown",
   "metadata": {},
   "source": [
    "- \"if\" è una parola chiave utilizzata per eseguire un blocco di istruzioni solo se una condizione è vera.  \n",
    "Ad esempio, if x > 5: eseguirà il blocco di codice che segue solo se la variabile x è maggiore di 5;\n",
    "\n",
    "- \"if else\" visto in C viene rimpiazzato da \"elif\" ma ha lo stesso significato, viene utilizzato per  \n",
    "verificare una condizione successiva al primo \"if\";\n",
    "\n",
    "- \"else\" viene utilizzato quando tutte le altre opzioni sono state guidicate false per eseguire una parte  \n",
    "di codice senza una richiesta specifica."
   ]
  },
  {
   "cell_type": "code",
   "execution_count": 55,
   "metadata": {},
   "outputs": [
    {
     "name": "stdout",
     "output_type": "stream",
     "text": [
      "Il numero è zero\n"
     ]
    }
   ],
   "source": [
    "# vediamo una semplice applicazione per verificare se un numero sia positivo, negativo o zero\n",
    "\n",
    "num = 0\n",
    "\n",
    "if num < 0:\n",
    "    print('Il numero è negativo')\n",
    "\n",
    "elif num > 0:\n",
    "    print('Il numero è positivo')\n",
    "\n",
    "else:\n",
    "    print('Il numero è zero')"
   ]
  },
  {
   "cell_type": "markdown",
   "metadata": {},
   "source": [
    "## While Loop"
   ]
  },
  {
   "cell_type": "markdown",
   "metadata": {},
   "source": [
    "I while loop vengono utilizzati per eseguire un blocco di codice continuamente se una certa condizione resta  \n",
    "sempre verficata.\n",
    "\n",
    "Vediamo un esempio:"
   ]
  },
  {
   "cell_type": "code",
   "execution_count": 65,
   "metadata": {},
   "outputs": [
    {
     "name": "stdout",
     "output_type": "stream",
     "text": [
      "Valore di n =  0 --> siamo dentro il loop\n",
      "Valore di n =  1 --> siamo dentro il loop\n",
      "Valore di n =  2 --> siamo dentro il loop\n",
      "Valore di n =  3 --> siamo dentro il loop\n",
      "Valore di n =  4 --> siamo dentro il loop\n",
      "Valore di n = 5 --> siamo usciti dal loop\n"
     ]
    }
   ],
   "source": [
    "# inizializziamo la variabile di controllo\n",
    "\n",
    "n = 0\n",
    "\n",
    "while n < 5:\n",
    "\n",
    "    print('Valore di n = ', n, \"--> siamo dentro il loop\")\n",
    "\n",
    "    n += 1      # questa dicitura è l'abbreviazione di n = n + 1\n",
    "\n",
    "\n",
    "print(\"Valore di n =\", n, \"--> siamo usciti dal loop\")"
   ]
  },
  {
   "cell_type": "markdown",
   "metadata": {},
   "source": [
    "## For Loop"
   ]
  },
  {
   "cell_type": "markdown",
   "metadata": {},
   "source": [
    "Notiamo che nel loop while abbiamo usato una variabile di controllo incrementandola manualmente ad ogni giro,  \n",
    "un modo più comodo e rapido di fare la stessa cosa consiste nell'usare i for loop.  \n",
    "\n",
    "I for loop eseguono un blocco di codice oer un numero di step che decidiamo agendo sulla variabile  \n",
    "di controllo.\n",
    "\n",
    "Vediamo un esempio"
   ]
  },
  {
   "cell_type": "code",
   "execution_count": 66,
   "metadata": {},
   "outputs": [
    {
     "name": "stdout",
     "output_type": "stream",
     "text": [
      "Valore di n =  0 --> siamo dentro il loop\n",
      "Valore di n =  1 --> siamo dentro il loop\n",
      "Valore di n =  2 --> siamo dentro il loop\n",
      "Valore di n =  3 --> siamo dentro il loop\n",
      "Valore di n =  4 --> siamo dentro il loop\n",
      "Valore di n = 4 --> siamo usciti dal loop\n"
     ]
    }
   ],
   "source": [
    "# Facciamo la stessa cosa di prima ma con i loop for\n",
    "\n",
    "for i in range(5):\n",
    "\n",
    "    print('Valore di n = ', i, \"--> siamo dentro il loop\")\n",
    "\n",
    "print(\"Valore di n =\", i, \"--> siamo usciti dal loop\")"
   ]
  },
  {
   "cell_type": "markdown",
   "metadata": {},
   "source": [
    "Notiamo subito due cose:\n",
    "\n",
    "1. La variabile i incrementa da sola, senza bisogno di una nostra azione;\n",
    "\n",
    "2. Siamo usciti dal loop allo stesso momento ma la variabile vale 4 e non 5, questo in quanto  \n",
    "nel loop while l'ultima azione da noi eseguita è stata incrementare la n da 4 a 5, per poi uscire  \n",
    "dal loop."
   ]
  },
  {
   "cell_type": "markdown",
   "metadata": {},
   "source": [
    "## Array"
   ]
  },
  {
   "cell_type": "markdown",
   "metadata": {},
   "source": [
    "Il linguaggio Python non consente di utilizzare gli array in maniera nativa come nel caso  \n",
    "di altri linguaggi di programmazione.  \n",
    "Tuttavia la loro implementazione è presente nella libreria *numpy*; questa libreria è così largamente utilizzata da essere, a volte, considerata un'estensione diretta di Python.  \n",
    "\n",
    "Essendo una libreria è necessario che venga importata nel nostro codice, è buona pratica, quando si aggiungono librerie, che vengano importate con un *alias* in modo da evitare conflitti con funzioni che hanno lo stesso nome. Questa situazione è più frequente di quanto si creda, soprattutto per progetti di grande dimensione."
   ]
  },
  {
   "cell_type": "code",
   "execution_count": 18,
   "metadata": {},
   "outputs": [
    {
     "name": "stdout",
     "output_type": "stream",
     "text": [
      "Array unidimensionale:\n",
      "[1 2 3]\n",
      "\n",
      "Array bidimanionale:\n",
      "[[1 2 3]\n",
      " [4 5 6]]\n",
      "\n",
      "Array tridimensionale:\n",
      " [[1 2 3]\n",
      " [4 5 6]\n",
      " [7 8 9]]\n"
     ]
    }
   ],
   "source": [
    "# importiamo numpy con un alias\n",
    "import numpy as np\n",
    "\n",
    "# creiamo un array unidimensionale, la chiamata della funzione array deve essere\n",
    "# anticipata dall'alias della libreria seguito da un punto come di seguito\n",
    "arr1d = np.array([1, 2, 3])\n",
    "print(\"Array unidimensionale:\\n{}\\n\".format(arr1d))\n",
    "\n",
    "\n",
    "# possiamo creare anche array bidimensionali\n",
    "arr2d = np.array([[1, 2, 3], [4, 5, 6]])\n",
    "print(\"Array bidimanionale:\\n{}\\n\".format(arr2d))\n",
    "\n",
    "# o anche un array in 3d\n",
    "arr3d = np.array([[1, 2, 3], [4, 5, 6], [7, 8, 9]])\n",
    "print(\"Array tridimensionale:\\n\", arr3d)"
   ]
  },
  {
   "cell_type": "markdown",
   "metadata": {},
   "source": [
    "È il momento opportuno per introdurre il concetto di *slicing*. Lo slicing, letteralmente \"tagliare\", consiste nel selezionare solamente una parte di un array, da un certo valore ad un altro."
   ]
  },
  {
   "cell_type": "code",
   "execution_count": 26,
   "metadata": {},
   "outputs": [
    {
     "name": "stdout",
     "output_type": "stream",
     "text": [
      "Array intero:\n",
      "[1 2 3 4 5 6 7 8 9]\n",
      "\n",
      "Array con slicing\n",
      "[4 5 6 7 8 9]\n",
      "\n",
      "Array con slicing bis \n",
      "[4 5 6]\n",
      "\n"
     ]
    }
   ],
   "source": [
    "# dichiariamo un array molto un lungo\n",
    "arr = np.array([1, 2, 3, 4, 5, 6, 7, 8, 9])\n",
    "print(\"Array intero:\\n{}\\n\".format(arr))\n",
    "\n",
    "# effettuiamo un slicing sull'array in modo da mantenere\n",
    "# solo i valori dopo il terzo (non incluso)\n",
    "sliced_arr = arr[3:]\n",
    "print(\"Array con slicing\\n{}\\n\".format(sliced_arr))\n",
    "\n",
    "# facciamone un altro per mantenere i valori centrali\n",
    "sliced_arr_bis = arr[3:6]\n",
    "print(\"Array con slicing bis \\n{}\\n\".format(sliced_arr_bis))"
   ]
  },
  {
   "cell_type": "markdown",
   "metadata": {},
   "source": [
    "La domanda che potremmo farci ora è: qual'è la reale differenza tra array e liste dato che posso creare liste che contengano altre liste (un po' come la struttura degli array)?  \n",
    "\n",
    "La risposta sta nel fatto che, pur sembrando rappresentazioni simili, gli array vengono trattati a tutti gli effetti come matrici, introducendo la nozione di righe e di colonne.  \n",
    "\n",
    "Quando chiamiamo un array gli indici che inseriamo non sono casuali, ma corrispondono a  \n",
    "[righe, colonne]."
   ]
  },
  {
   "cell_type": "code",
   "execution_count": 29,
   "metadata": {},
   "outputs": [
    {
     "name": "stdout",
     "output_type": "stream",
     "text": [
      "Prima colonna:\n",
      "[1 4]\n",
      "\n",
      "Seconda colonna:\n",
      "[2 5]\n",
      "\n",
      "Prima riga:\n",
      "[1 2 3]\n",
      "\n"
     ]
    }
   ],
   "source": [
    "# accediamo alla prima colonna dell'array in 2d definito sopra utilizzando\n",
    "# uno slicing ma senza argomenti, questa sintassi restituisce\n",
    "# tutti gli elementi contenuti\n",
    "colonna1 = arr2d[:,0]\n",
    "colonna2 = arr2d[:,1]\n",
    "riga1 = arr2d[0,:]\n",
    "\n",
    "print(\"Prima colonna:\\n{}\\n\".format(colonna1))\n",
    "print(\"Seconda colonna:\\n{}\\n\".format(colonna2))\n",
    "print(\"Prima riga:\\n{}\\n\".format(riga1))\n"
   ]
  },
  {
   "cell_type": "markdown",
   "metadata": {},
   "source": [
    "Inoltre tutte le funzioni della libreria *numpy* sono ottimizzate per lavorare con array, proviamo ora a sommare tutti gli elementi contenuti in arr2d sia con la funzione somma presente di default in Python sia con quella contenuta in *numpy*."
   ]
  },
  {
   "cell_type": "code",
   "execution_count": 30,
   "metadata": {},
   "outputs": [
    {
     "name": "stdout",
     "output_type": "stream",
     "text": [
      "Somma con sum() di Python:  [5 7 9]\n",
      "\n",
      "Somma con sum() di Numpy:  21\n"
     ]
    }
   ],
   "source": [
    "somma_python = sum(arr2d)\n",
    "somma_numpy = np.sum(arr2d)\n",
    "\n",
    "print(\"Somma con sum() di Python: \", somma_python)\n",
    "print(\"\\nSomma con sum() di Numpy: \", somma_numpy)"
   ]
  },
  {
   "cell_type": "markdown",
   "metadata": {},
   "source": [
    "Come è possibile vedere il risultato è ben diverso, la funzione somma contenuta in Python non è in grado di riconoscere l'array e ci restituisce la somma degli elementi disposti nelle colonne, piuttosto che quella di tutti gli elementi.  \n",
    "\n",
    "Possiamo inoltre notare che le funzioni hanno lo stesso nome, in casi come questi importare una libreria con un *alias* consente a Python di capire quale delle due vogliamo utilizzare."
   ]
  },
  {
   "cell_type": "markdown",
   "metadata": {},
   "source": [
    "# Esercizi"
   ]
  },
  {
   "cell_type": "markdown",
   "metadata": {},
   "source": [
    "Vediamo ora qualche esercizio per mettere in pratica quello che abbiamo visto nelle righe precedenti"
   ]
  },
  {
   "cell_type": "markdown",
   "metadata": {},
   "source": [
    "## Primo Codice"
   ]
  },
  {
   "cell_type": "markdown",
   "metadata": {},
   "source": [
    "Costruiamo un codice che verifichi se un numero sia primo o meno"
   ]
  },
  {
   "cell_type": "code",
   "execution_count": 7,
   "metadata": {},
   "outputs": [
    {
     "name": "stdout",
     "output_type": "stream",
     "text": [
      "Il numero è primo\n"
     ]
    }
   ],
   "source": [
    "# chiediamo all'utente di inserire il numero da verificare\n",
    "\n",
    "num = int(input('Inserisci un numero: '))\n",
    "\n",
    "# inizializziamo una variabile di controllo\n",
    "\n",
    "flag = 0\n",
    "\n",
    "# creiamo un loop che scorra su tutti i possibili divisori, i loop ammettono solamente\n",
    "# valori di start e stop interi, mentre num/2 potrebbe essere float. La soluzione è eseguire\n",
    "# un casting che tronchi la parte decimale della divisione\n",
    "\n",
    "for i in range(2, int(num/2)):\n",
    "\n",
    "    if num%i == 0:      # il simbolo % ci restituisce il resto della divisione\n",
    "        flag = 1        # \"accendiamo\" la variabile di controllo\n",
    "        break           # una volta trovato un divisore non serve continuare, usciamo dal loop con la condizione \"break\"\n",
    "\n",
    "if flag == 1:\n",
    "    print('Il numero non è primo')\n",
    "\n",
    "else:\n",
    "    print('Il numero è primo')"
   ]
  },
  {
   "cell_type": "markdown",
   "metadata": {},
   "source": [
    "## Secondo Codice"
   ]
  },
  {
   "cell_type": "markdown",
   "metadata": {},
   "source": [
    "Creiamo un codice per ottenere la sequenza di Fibonacci"
   ]
  },
  {
   "cell_type": "code",
   "execution_count": 7,
   "metadata": {},
   "outputs": [
    {
     "name": "stdout",
     "output_type": "stream",
     "text": [
      "1\n",
      "1\n",
      "2\n",
      "3\n",
      "5\n",
      "8\n",
      "13\n",
      "21\n",
      "34\n",
      "55\n"
     ]
    }
   ],
   "source": [
    "# chiediamo all'utente quanti numeri della sequenza vuole visualizzare\n",
    "\n",
    "num = int(input('Quanti elementi della sequenza vuoi vedere? '))\n",
    "\n",
    "#inizializziamo ue variabili che ci serviranno per la sequenza\n",
    "a, b = 1, 0\n",
    "\n",
    "# distinguiamo il caso in cui si viglia solamente un valore della sequenza\n",
    "if num == 1:\n",
    "    print(a)\n",
    "\n",
    "# scriviamo qua il loop che ci permetterà di ottenere anche gli altri elementi della successione\n",
    "else:\n",
    "\n",
    "    # primo termine\n",
    "    print(a)\n",
    "\n",
    "    # fermiamo il loop un valore prima di quello che vogliamo dato che abbiamo già stampato il primo termine\n",
    "    for i in range(num - 1):\n",
    "\n",
    "        c = a + b\n",
    "        b = a\n",
    "        a = c\n",
    "        print(c)\n",
    "\n"
   ]
  },
  {
   "cell_type": "markdown",
   "metadata": {},
   "source": [
    "## Terzo Codice"
   ]
  },
  {
   "cell_type": "markdown",
   "metadata": {},
   "source": [
    "Chiediamo all'utente di inserire una serie di numeri, il programma dovrà restituirli ordinati"
   ]
  },
  {
   "cell_type": "code",
   "execution_count": 13,
   "metadata": {},
   "outputs": [
    {
     "name": "stdout",
     "output_type": "stream",
     "text": [
      "Lista originale: [4, 6, 3, 4, 5, 6, 3, 4, 5, 6]\n",
      "Lista ordinata: [3, 3, 4, 4, 4, 5, 5, 6, 6, 6]\n"
     ]
    }
   ],
   "source": [
    "# per prima cosa chiediamo all'utente quanti numeri vuole inserire\n",
    "num = int(input('Quanti numeri vuoi inserire? '))\n",
    "\n",
    "# inizializziamo una lista per contenere i numeri\n",
    "lista = []\n",
    "\n",
    "# ora creiamo un loop per inserire i numeri nella lista\n",
    "for i in range(num):\n",
    "    numero = int(input('Inerisci un numero: '))\n",
    "\n",
    "    # aggiungiamo il numero inserito alla lista\n",
    "    lista.append(numero)\n",
    "\n",
    "# Creiamo una copia della lista originale per ordinare i numeri\n",
    "lista_ord = lista.copy()\n",
    "\n",
    "# Creiamo ora due loop per ordinare la lista, scrivendoli in questo modo facciamo si\n",
    "# che si confrontino SOLO elementi ADIACENTI fra loro\n",
    "\n",
    "for i in range(num - 1):\n",
    "    for j in range(num - 1 - i):\n",
    "\n",
    "        # Confrontiamo gli elementi adiacenti e li scambiamo se necessario\n",
    "        if lista_ord[j] > lista_ord[j + 1]:\n",
    "            lista_ord[j], lista_ord[j + 1] = lista_ord[j + 1], lista_ord[j]\n",
    "\n",
    "print(\"Lista originale:\", lista)\n",
    "print(\"Lista ordinata:\", lista_ord)"
   ]
  },
  {
   "cell_type": "markdown",
   "metadata": {},
   "source": [
    "Modifichiamo il codice precedente in modo che non sia necessario dire quanti numeri vogliamo inserire all'inizio"
   ]
  },
  {
   "cell_type": "code",
   "execution_count": 20,
   "metadata": {},
   "outputs": [
    {
     "name": "stdout",
     "output_type": "stream",
     "text": [
      "Lista originale: [3, 5, 4, 3, 7, 6]\n",
      "Lista ordinata: [3, 3, 4, 5, 6, 7]\n"
     ]
    }
   ],
   "source": [
    "# inizializziamo una lista per contenere i numeri\n",
    "lista = []\n",
    "\n",
    "# ora creiamo un loop per inserire i numeri nella lista, usiamo un loop \"infinito\"\n",
    "while True:\n",
    "\n",
    "    # per ora trattiamo i numeri come stringhe\n",
    "    numero_stringa = input('Inerisci un numero: ')\n",
    "\n",
    "    # interrompiamo il ciclo quando l'utente schiaccia invio senza inserire nulla\n",
    "    if numero_stringa == '':\n",
    "        break\n",
    "\n",
    "    # convertiamo il numero da stringa a intero\n",
    "    numero = int(numero_stringa)\n",
    "\n",
    "    # aggiungiamo il numero inserito alla lista\n",
    "    lista.append(numero)\n",
    "\n",
    "# Creiamo una copia della lista originale per ordinare i numeri\n",
    "lista_ord = lista.copy()\n",
    "\n",
    "# Creiamo ora due loop per ordinare la lista, scrivendoli in questo modo facciamo si\n",
    "# che si confrontino SOLO elementi ADIACENTI fra loro. Invece di avere un loop che\n",
    "# scorre sino ad un numero inserito dall'utente lo facciamo scorrere sino alla \n",
    "# lunghezza massima della lista di numeri\n",
    "\n",
    "for i in range(len(lista) - 1):\n",
    "    for j in range(len(lista) - 1 - i):\n",
    "\n",
    "        # Confrontiamo gli elementi adiacenti e li scambiamo se necessario\n",
    "        if lista_ord[j] > lista_ord[j + 1]:\n",
    "            lista_ord[j], lista_ord[j + 1] = lista_ord[j + 1], lista_ord[j]\n",
    "\n",
    "print(\"Lista originale:\", lista)\n",
    "print(\"Lista ordinata:\", lista_ord)"
   ]
  }
 ],
 "metadata": {
  "kernelspec": {
   "display_name": "base",
   "language": "python",
   "name": "python3"
  },
  "language_info": {
   "codemirror_mode": {
    "name": "ipython",
    "version": 3
   },
   "file_extension": ".py",
   "mimetype": "text/x-python",
   "name": "python",
   "nbconvert_exporter": "python",
   "pygments_lexer": "ipython3",
   "version": "3.11.6"
  }
 },
 "nbformat": 4,
 "nbformat_minor": 2
}
